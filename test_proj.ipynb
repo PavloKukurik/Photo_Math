{
 "cells": [
  {
   "cell_type": "markdown",
   "source": [
    "## Analyze and calculate mathematical expressions from images\n",
    "\n",
    "##### Made by: Pavlo Kukurik, Sviatoslav Sharak, Khrystyna Dmytriv"
   ],
   "metadata": {
    "collapsed": false
   },
   "id": "37f9f3e782fdfeb8"
  },
  {
   "cell_type": "code",
   "execution_count": 1,
   "id": "initial_id",
   "metadata": {
    "collapsed": true,
    "ExecuteTime": {
     "end_time": "2024-03-30T22:54:20.547027300Z",
     "start_time": "2024-03-30T22:54:18.996645900Z"
    }
   },
   "outputs": [],
   "source": [
    "#Import libraries\n",
    "\n",
    "import sklearn\n",
    "import cv2 as cv\n",
    "import numpy as np\n",
    "import pytesseract"
   ]
  }
 ],
 "metadata": {
  "kernelspec": {
   "display_name": "Python 3",
   "language": "python",
   "name": "python3"
  },
  "language_info": {
   "codemirror_mode": {
    "name": "ipython",
    "version": 2
   },
   "file_extension": ".py",
   "mimetype": "text/x-python",
   "name": "python",
   "nbconvert_exporter": "python",
   "pygments_lexer": "ipython2",
   "version": "2.7.6"
  }
 },
 "nbformat": 4,
 "nbformat_minor": 5
}
