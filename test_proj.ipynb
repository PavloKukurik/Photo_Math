{
 "cells": [
  {
   "cell_type": "markdown",
   "source": [
    "## Analyze and calculate mathematical expressions from images\n",
    "\n",
    "##### Made by: Pavlo Kukurik, Sviatoslav Sharak, Khrystyna Dmytriv"
   ],
   "metadata": {
    "collapsed": false
   },
   "id": "37f9f3e782fdfeb8"
  },
  {
   "cell_type": "code",
   "execution_count": 1,
   "id": "initial_id",
   "metadata": {
    "collapsed": true,
    "ExecuteTime": {
     "end_time": "2024-03-30T22:54:20.547027300Z",
     "start_time": "2024-03-30T22:54:18.996645900Z"
    }
   },
   "outputs": [],
   "source": [
    "import random\n",
    "\n",
    "#Import libraries\n",
    "\n",
    "import cv2 as cv\n",
    "import numpy as np"
   ]
  },
  {
   "cell_type": "code",
   "outputs": [
    {
     "data": {
      "text/plain": "<Figure size 640x480 with 1 Axes>",
      "image/png": "[encoded data removed]"
     },
     "metadata": {},
     "output_type": "display_data"
    },
    {
     "name": "stdout",
     "output_type": "stream",
     "text": [
      "Predicted digit: 2\n"
     ]
    }
   ],
   "source": [
    "import numpy as np\n",
    "import random\n",
    "from keras.datasets import mnist\n",
    "import matplotlib.pyplot as plt\n",
    "\n",
    "# Завантаження даних MNIST\n",
    "(train_images, train_labels), (test_images, test_labels) = mnist.load_data()\n",
    "\n",
    "# Перетворення даних в діапазон [0, 1] та решейп зображень\n",
    "train_images = train_images.astype('float32') / 255\n",
    "test_images = test_images.astype('float32') / 255\n",
    "\n",
    "# Решейп зображень для вхідного шару нейронної мережі\n",
    "train_images = train_images.reshape((len(train_images), 28 * 28))\n",
    "test_images = test_images.reshape((len(test_images), 28 * 28))\n",
    "\n",
    "# Перетворення міток в категоріальний формат\n",
    "from keras.utils import to_categorical\n",
    "train_labels = to_categorical(train_labels)\n",
    "test_labels = to_categorical(test_labels)\n",
    "\n",
    "# Побудова моделі\n",
    "input_size = 28 * 28\n",
    "hidden_size = 100\n",
    "output_size = 10\n",
    "\n",
    "# Ініціалізація ваг та зсувів\n",
    "weights_input_hidden = np.random.randn(input_size, hidden_size)\n",
    "biases_input_hidden = np.random.randn(hidden_size)\n",
    "weights_hidden_output = np.random.randn(hidden_size, output_size)\n",
    "biases_hidden_output = np.random.randn(output_size)\n",
    "\n",
    "# Функція активації (сигмоїда)\n",
    "def sigmoid(x):\n",
    "    return 1 / (1 + np.exp(-x))\n",
    "\n",
    "# Функція для передбачення\n",
    "def predict(image):\n",
    "    input_layer = image\n",
    "    hidden_layer_input = np.dot(input_layer, weights_input_hidden) + biases_input_hidden\n",
    "    hidden_layer_output = sigmoid(hidden_layer_input)\n",
    "    output_layer_input = np.dot(hidden_layer_output, weights_hidden_output) + biases_hidden_output\n",
    "    output = np.exp(output_layer_input) / np.sum(np.exp(output_layer_input), axis=0)\n",
    "    return output\n",
    "\n",
    "# Навчання моделі (без зворотнього поширення помилки та оновлення ваг та зсувів)\n",
    "\n",
    "# Оцінка моделі (без оцінки точності)\n",
    "\n",
    "# Розпізнавання та перетворення цифр у текст (приклад)\n",
    "image = test_images[random.randint(1, 10)]\n",
    "input_image = image.reshape((28, 28))\n",
    "\n",
    "predicted_output = predict(image)\n",
    "predicted_digit = np.argmax(predicted_output)\n",
    "plt.imshow(input_image, cmap='gray')\n",
    "plt.show()\n",
    "print(\"Predicted digit:\", predicted_digit)\n",
    "\n"
   ],
   "metadata": {
    "collapsed": false,
    "ExecuteTime": {
     "end_time": "2024-04-01T19:56:46.800640100Z",
     "start_time": "2024-04-01T19:56:45.745123Z"
    }
   },
   "id": "d15dd6ab768cb0c0",
   "execution_count": 11
  },
  {
   "cell_type": "code",
   "outputs": [
    {
     "data": {
      "text/plain": "<IPython.lib.display.Audio object>",
      "text/html": "\n                <audio  controls=\"controls\" autoplay=\"autoplay\">\n                    <source src=\"data:audio/wav;base64,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\" type=\"audio/wav\" />\n                    Your browser does not support the audio element.\n                </audio>\n              "
     },
     "execution_count": 22,
     "metadata": {},
     "output_type": "execute_result"
    }
   ],
   "source": [
    "from gtts import gTTS\n",
    "from IPython.display import Audio\n",
    "import io\n",
    "\n",
    "# Текст, який потрібно озвучити\n",
    "text = \"Привіт як справи?\"\n",
    "\n",
    "# Створення об'єкту gTTS\n",
    "tts = gTTS(text, lang='uk')\n",
    "\n",
    "# Створення буферу для зберігання аудіо\n",
    "audio_buffer = io.BytesIO()\n",
    "\n",
    "# Збереження аудіо в буфер\n",
    "tts.write_to_fp(audio_buffer)\n",
    "\n",
    "# Відтворення аудіо у блокноті\n",
    "Audio(data=audio_buffer.getvalue(), autoplay=True)\n"
   ],
   "metadata": {
    "collapsed": false,
    "ExecuteTime": {
     "end_time": "2024-04-01T21:25:41.134457600Z",
     "start_time": "2024-04-01T21:25:40.839091100Z"
    }
   },
   "id": "ebaadb5bb2c2eb03",
   "execution_count": 22
  }
 ],
 "metadata": {
  "kernelspec": {
   "display_name": "Python 3",
   "language": "python",
   "name": "python3"
  },
  "language_info": {
   "codemirror_mode": {
    "name": "ipython",
    "version": 2
   },
   "file_extension": ".py",
   "mimetype": "text/x-python",
   "name": "python",
   "nbconvert_exporter": "python",
   "pygments_lexer": "ipython2",
   "version": "2.7.6"
  }
 },
 "nbformat": 4,
 "nbformat_minor": 5
}
